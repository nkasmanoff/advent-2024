{
 "cells": [
  {
   "cell_type": "code",
   "execution_count": 1,
   "metadata": {},
   "outputs": [],
   "source": [
    "f = open(\"day3data.txt\", \"r\")\n",
    "data = f.read()"
   ]
  },
  {
   "cell_type": "code",
   "execution_count": 4,
   "metadata": {},
   "outputs": [],
   "source": [
    "# best option would be to use some form of regex which finds mul(##,###), but I want to do this with no packages. \n",
    "\n",
    "# split string on \"mul(\"\n",
    "# for each, find all that contain a \")\" at the end\n",
    "# for these examples, confirm that all that exists between mull( and ) is some combination of ##,## . \n",
    "\n",
    "\n"
   ]
  },
  {
   "cell_type": "code",
   "execution_count": null,
   "metadata": {},
   "outputs": [],
   "source": []
  },
  {
   "cell_type": "code",
   "execution_count": null,
   "metadata": {},
   "outputs": [],
   "source": [
    "# next for each, find if \")\" exists and split on it. \n",
    "# take the first element of that list, and check to see if it is an integer with the \",\" removed and no other chars\n",
    "mul_data = data.split(\"mul(\")\n",
    "multiples = []\n",
    "for sub_str in mul_data:\n",
    "    if \")\" not in sub_str:\n",
    "        continue\n",
    "    prior_str = sub_str.split(\")\")[0]\n",
    "    if \",\" not in prior_str: \n",
    "        continue\n",
    "    if all([x.isnumeric() for x in prior_str.replace(\",\",\"\")]):\n",
    "        multiples.append(prior_str)\n",
    "\n",
    "total_multiplication = 0\n",
    "for mul in multiples:\n",
    "    a, b = mul.split(',')\n",
    "    total_multiplication +=  int(a) * int(b)        "
   ]
  },
  {
   "cell_type": "code",
   "execution_count": 12,
   "metadata": {},
   "outputs": [
    {
     "name": "stdout",
     "output_type": "stream",
     "text": [
      "179571322\n"
     ]
    }
   ],
   "source": [
    "print(total_multiplication)"
   ]
  },
  {
   "cell_type": "code",
   "execution_count": 13,
   "metadata": {},
   "outputs": [],
   "source": [
    "# For part 2, we now have to take into account these do and don't operators which disable the running sum when possible.\n",
    "# First idea..\n",
    "# The multiple counter is still the same, but now we should first split the overall string based on the placement of all the do's and don't and remove any muls that come after a don't \n",
    "# first, prepend the string with do(), as that is what it begins with by default\n",
    "\n",
    "data_p2 = \"do()\" + data"
   ]
  },
  {
   "cell_type": "code",
   "execution_count": 20,
   "metadata": {},
   "outputs": [],
   "source": [
    "\n",
    "# find all dos \n",
    "# split them to remove the don'ts \n",
    "# add to new big string and re-run part 1 code basically \n",
    "\n",
    "do_splits = data_p2.split(\"do()\")\n",
    "enabled_multiples = []\n",
    "for do_split in do_splits:\n",
    "    enabled_multiples.append(do_split.split(\"don't()\")[0])\n"
   ]
  },
  {
   "cell_type": "code",
   "execution_count": 23,
   "metadata": {},
   "outputs": [],
   "source": [
    "mul_data_p2 = \"\".join(enabled_multiples)"
   ]
  },
  {
   "cell_type": "code",
   "execution_count": 24,
   "metadata": {},
   "outputs": [],
   "source": [
    "# next for each, find if \")\" exists and split on it. \n",
    "# take the first element of that list, and check to see if it is an integer with the \",\" removed and no other chars\n",
    "mul_data = mul_data_p2.split(\"mul(\")\n",
    "multiples = []\n",
    "for sub_str in mul_data:\n",
    "    if \")\" not in sub_str:\n",
    "        continue\n",
    "    prior_str = sub_str.split(\")\")[0]\n",
    "    if \",\" not in prior_str: \n",
    "        continue\n",
    "    if all([x.isnumeric() for x in prior_str.replace(\",\",\"\")]):\n",
    "        multiples.append(prior_str)\n",
    "\n",
    "total_multiplication = 0\n",
    "for mul in multiples:\n",
    "    a, b = mul.split(',')\n",
    "    total_multiplication +=  int(a) * int(b)        "
   ]
  },
  {
   "cell_type": "code",
   "execution_count": 25,
   "metadata": {},
   "outputs": [
    {
     "data": {
      "text/plain": [
       "103811193"
      ]
     },
     "execution_count": 25,
     "metadata": {},
     "output_type": "execute_result"
    }
   ],
   "source": [
    "total_multiplication"
   ]
  },
  {
   "cell_type": "code",
   "execution_count": null,
   "metadata": {},
   "outputs": [],
   "source": []
  }
 ],
 "metadata": {
  "kernelspec": {
   "display_name": "action-annotator",
   "language": "python",
   "name": "python3"
  },
  "language_info": {
   "codemirror_mode": {
    "name": "ipython",
    "version": 3
   },
   "file_extension": ".py",
   "mimetype": "text/x-python",
   "name": "python",
   "nbconvert_exporter": "python",
   "pygments_lexer": "ipython3",
   "version": "3.10.13"
  }
 },
 "nbformat": 4,
 "nbformat_minor": 2
}
