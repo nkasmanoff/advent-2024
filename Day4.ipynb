{
 "cells": [
  {
   "cell_type": "code",
   "execution_count": 1,
   "metadata": {},
   "outputs": [],
   "source": [
    "f = open(\"day4data.txt\", \"r\")\n",
    "data = f.read()\n",
    "\n",
    "\n"
   ]
  },
  {
   "cell_type": "markdown",
   "metadata": {},
   "source": [
    "Today was a bad day. I was working on this but then my computer crashed and I lost it and installed the new OS which caused me to lose all my desktop files. I had to start over on this but for transparency I included my first original wrong attempt, and then used cursor and another solution online to help me get this done before day 5. Hopefully a better one tomorrow"
   ]
  },
  {
   "cell_type": "markdown",
   "metadata": {},
   "source": [
    "# how many times does XMAS appear?"
   ]
  },
  {
   "cell_type": "code",
   "execution_count": 2,
   "metadata": {},
   "outputs": [],
   "source": [
    "wordsearch = data.split('\\n')\n",
    "num_rows = len(wordsearch[0])\n",
    "num_cols = len(wordsearch) \n",
    " \n"
   ]
  },
  {
   "cell_type": "markdown",
   "metadata": {},
   "source": [
    "# WRONG APPROACH\n",
    "\n",
    "This checks for all possible ways to get xmas like it's a word search, when instead we want to find xmas written in the grid in full. The horizontal, vertical, and diagonal checks should mean that the word xmas has to be written that way, no pivoting.\n"
   ]
  },
  {
   "cell_type": "code",
   "execution_count": 3,
   "metadata": {},
   "outputs": [],
   "source": [
    "def get_xmases_made_from_this_letter(row, col, wordsearch, next_letter='M'):\n",
    "    \"\"\"\n",
    "    This word search allows words to be horizontal, vertical, diagonal, written backwards, or even overlapping other words    \n",
    "    \"\"\"\n",
    "    next_indices = []\n",
    "    \n",
    "    if col > 0 and row > 0:\n",
    "        if wordsearch[row-1][col-1] == next_letter:\n",
    "            next_indices.append((row-1, col-1))\n",
    "\n",
    "    if col < num_cols - 1 and row < num_rows - 1:\n",
    "        if wordsearch[row+1][col+1] == next_letter:\n",
    "            next_indices.append((row+1, col+1))\n",
    "\n",
    "    if col < num_cols - 1 and row > 0:\n",
    "        if wordsearch[row-1][col+1] == next_letter:\n",
    "            next_indices.append((row-1, col+1))\n",
    "\n",
    "    if col > 0 and row < num_rows - 1:\n",
    "        if wordsearch[row+1][col-1] == next_letter:\n",
    "            next_indices.append((row+1, col-1))\n",
    "\n",
    "    if row > 0:\n",
    "        if wordsearch[row-1][col] == next_letter:\n",
    "            next_indices.append((row-1, col))\n",
    "\n",
    "    if row < num_rows - 1:\n",
    "        if wordsearch[row+1][col] == next_letter:\n",
    "            next_indices.append((row+1, col))\n",
    "\n",
    "    if col > 0:\n",
    "        if wordsearch[row][col-1] == next_letter:\n",
    "            next_indices.append((row, col-1))\n",
    "\n",
    "    if col < num_cols - 1:\n",
    "        if wordsearch[row][col+1] == next_letter:\n",
    "            next_indices.append((row, col+1))\n",
    "\n",
    "    return next_indices\n",
    "\n",
    "def check_for_mas(row, col, wordsearch):\n",
    "    neighboring_ms = get_xmases_made_from_this_letter(row, col, wordsearch, next_letter='M')\n",
    "\n",
    "    neighboring_as = []\n",
    "    for m_letter in neighboring_ms:\n",
    "        neighboring_as.extend(get_xmases_made_from_this_letter(m_letter[0], m_letter[1], wordsearch, next_letter='A'))\n",
    "\n",
    "    neighboring_ss = []\n",
    "    for a_letter in neighboring_as:\n",
    "        neighboring_ss.extend(get_xmases_made_from_this_letter(a_letter[0], a_letter[1], wordsearch, next_letter='S'))\n",
    "\n",
    "    return len(neighboring_ss)"
   ]
  },
  {
   "cell_type": "code",
   "execution_count": 4,
   "metadata": {},
   "outputs": [
    {
     "name": "stdout",
     "output_type": "stream",
     "text": [
      "50783\n"
     ]
    }
   ],
   "source": [
    "num_xmas = 0\n",
    "for row in range(num_rows):\n",
    "    for col in range(num_cols):\n",
    "        if wordsearch[row][col] == 'X':\n",
    "            num_xmas += check_for_mas(row, col, wordsearch)\n",
    "\n",
    "print(num_xmas)\n",
    "\n"
   ]
  },
  {
   "cell_type": "code",
   "execution_count": 11,
   "metadata": {},
   "outputs": [
    {
     "name": "stdout",
     "output_type": "stream",
     "text": [
      "2458\n"
     ]
    }
   ],
   "source": [
    "# Now work on the correct approach\n",
    "# first find if there is an x. \n",
    "# next, check the horizontal, vertical, and diagonal for an m-a-s. \n",
    "# if there is, add one to the count. \n",
    "\n",
    "def check_for_mas_from_x(row, col, wordsearch):\n",
    "    num_mas = 0\n",
    "    # check horizontal\n",
    "    if col + 3 < len(wordsearch[0]):  # Check if we have room horizontally\n",
    "        if wordsearch[row][col+1] == 'M' and wordsearch[row][col+2] == 'A' and wordsearch[row][col+3] == 'S':\n",
    "            num_mas += 1\n",
    "            \n",
    "    # check vertical\n",
    "    if row + 3 < len(wordsearch):  # Check if we have room vertically\n",
    "        if wordsearch[row+1][col] == 'M' and wordsearch[row+2][col] == 'A' and wordsearch[row+3][col] == 'S':\n",
    "            num_mas += 1\n",
    "            \n",
    "\n",
    "    # check horizontal right-to-left\n",
    "    if col >= 3:  # Check if we have room horizontally to the left\n",
    "        if wordsearch[row][col-1] == 'M' and wordsearch[row][col-2] == 'A' and wordsearch[row][col-3] == 'S':\n",
    "            num_mas += 1\n",
    "            \n",
    "    # check vertical bottom-to-top\n",
    "    if row >= 3:  # Check if we have room vertically upward\n",
    "        if wordsearch[row-1][col] == 'M' and wordsearch[row-2][col] == 'A' and wordsearch[row-3][col] == 'S':\n",
    "            num_mas += 1\n",
    "            \n",
    "    # check diagonal bottom-right to top-left\n",
    "    if row >= 3 and col >= 3:  # Check if we have room diagonally up-left\n",
    "        if wordsearch[row-1][col-1] == 'M' and wordsearch[row-2][col-2] == 'A' and wordsearch[row-3][col-3] == 'S':\n",
    "            num_mas += 1\n",
    "            \n",
    "    # check diagonal bottom-left to top-right\n",
    "    if row >= 3 and col + 3 < len(wordsearch[0]):  # Check if we have room diagonally up-right\n",
    "        if wordsearch[row-1][col+1] == 'M' and wordsearch[row-2][col+2] == 'A' and wordsearch[row-3][col+3] == 'S':\n",
    "            num_mas += 1\n",
    "\n",
    "    # check diagonal top-left to bottom-right\n",
    "    if row + 3 < len(wordsearch) and col + 3 < len(wordsearch[0]):\n",
    "        if wordsearch[row+1][col+1] == 'M' and wordsearch[row+2][col+2] == 'A' and wordsearch[row+3][col+3] == 'S':\n",
    "            num_mas += 1\n",
    "            \n",
    "    # check diagonal top-right to bottom-left\n",
    "    if row + 3 < len(wordsearch) and col >= 3:\n",
    "        if wordsearch[row+1][col-1] == 'M' and wordsearch[row+2][col-2] == 'A' and wordsearch[row+3][col-3] == 'S':\n",
    "            num_mas += 1\n",
    "\n",
    "\n",
    "    return num_mas\n",
    "\n",
    "num_xmas = 0\n",
    "wordsearch = data.split('\\n')\n",
    "num_rows = len(wordsearch)  # number of strings in the list\n",
    "num_cols = len(wordsearch[0])  # length of each string\n",
    "\n",
    "for row in range(num_rows):\n",
    "    for col in range(num_cols):\n",
    "        if wordsearch[row][col] == 'X':\n",
    "            num_xmas += check_for_mas_from_x(row, col, wordsearch)\n",
    "\n",
    "print(num_xmas)"
   ]
  },
  {
   "cell_type": "code",
   "execution_count": 12,
   "metadata": {},
   "outputs": [],
   "source": [
    "# This was right!\n",
    "\n",
    "# Now part 2\n",
    "\n",
    "# instead of checking for xmas, we are looking for the intersection of mas and mas to form an x! \n",
    "\n",
    "\n",
    "#Looking for the instructions, you flip over the word search to find that this isn't actually an XMAS puzzle; \n",
    "# it's an X-MAS puzzle in which you're supposed to find two MAS in the shape of an X. One way to achieve that is like this:\n",
    "\n",
    "# M.S\n",
    "# .A.\n",
    "#M.S\n"
   ]
  },
  {
   "cell_type": "code",
   "execution_count": 16,
   "metadata": {},
   "outputs": [
    {
     "name": "stdout",
     "output_type": "stream",
     "text": [
      "1945\n"
     ]
    }
   ],
   "source": [
    "import re \n",
    "Matches = 0\n",
    "data = open(\"day4data.txt\", \"r\").read()\n",
    "# I gave up and looked at the solution. \n",
    "# https://codeberg.org/ujocdod/AoC2024/src/branch/master/4b.py\n",
    "# regex to look for x shaped patterns of all possible ways you could get the mas x shape. \n",
    "Patterns = ['M.M(?s:.){139}A(?s:.){139}S.S','S.M(?s:.){139}A(?s:.){139}S.M','S.S(?s:.){139}A(?s:.){139}M.M','M.S(?s:.){139}A(?s:.){139}M.S']\n",
    "\n",
    "for Pattern in Patterns:\n",
    "    Matches += len(re.findall(f'(?=({Pattern}))', data))\n",
    "\n",
    "print(Matches)"
   ]
  },
  {
   "cell_type": "code",
   "execution_count": null,
   "metadata": {},
   "outputs": [],
   "source": []
  }
 ],
 "metadata": {
  "kernelspec": {
   "display_name": "action-annotator",
   "language": "python",
   "name": "python3"
  },
  "language_info": {
   "codemirror_mode": {
    "name": "ipython",
    "version": 3
   },
   "file_extension": ".py",
   "mimetype": "text/x-python",
   "name": "python",
   "nbconvert_exporter": "python",
   "pygments_lexer": "ipython3",
   "version": "3.10.13"
  }
 },
 "nbformat": 4,
 "nbformat_minor": 2
}
