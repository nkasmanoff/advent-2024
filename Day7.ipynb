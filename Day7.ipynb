{
 "cells": [
  {
   "cell_type": "code",
   "execution_count": null,
   "metadata": {},
   "outputs": [],
   "source": [
    "f = open(\"7.txt\", \"r\")\n",
    "data = f.read()"
   ]
  },
  {
   "cell_type": "code",
   "execution_count": null,
   "metadata": {},
   "outputs": [],
   "source": [
    "equations = data.split('\\n')"
   ]
  },
  {
   "cell_type": "code",
   "execution_count": null,
   "metadata": {},
   "outputs": [],
   "source": [
    "outputs = []\n",
    "inputs = []\n",
    "for equation in equations:\n",
    "    output = int(equation.split(':')[0])\n",
    "    input = equation.split(':')[1].strip().split()\n",
    "    input = [int(x) for x in input]\n",
    "    outputs.append(output)\n",
    "    inputs.append(input)"
   ]
  },
  {
   "cell_type": "code",
   "execution_count": null,
   "metadata": {},
   "outputs": [],
   "source": [
    "inputs"
   ]
  },
  {
   "cell_type": "code",
   "execution_count": null,
   "metadata": {},
   "outputs": [],
   "source": [
    "import itertools\n",
    "\n",
    "def generate_combinations(n):\n",
    "    operators = ['+', '*']\n",
    "    combinations = [''.join(p) for p in itertools.product(operators, repeat=n)]\n",
    "    return combinations\n"
   ]
  },
  {
   "cell_type": "code",
   "execution_count": null,
   "metadata": {},
   "outputs": [],
   "source": [
    "# The engineers just need the total calibration result, which is the sum of the test values from just the equations that could possibly be true. \n",
    "\n",
    "possibly_true_equations = []\n",
    "for input, output in zip(inputs,outputs):\n",
    "    n = len(input) - 1\n",
    "    combinations = generate_combinations(n)\n",
    "\n",
    "\n",
    "    for comb in combinations:\n",
    "        test_output = input[0]\n",
    "\n",
    "        for i in range(1,len(input)):\n",
    "            operator = comb[i-1]\n",
    "            value = input[i]\n",
    "            if operator == '+':\n",
    "                test_output += value\n",
    "            else: \n",
    "                test_output *= value\n",
    "\n",
    "        print(test_output,output, comb)\n",
    "        if test_output == output:\n",
    "            possibly_true_equations.append(output)\n",
    "            break\n",
    "\n"
   ]
  },
  {
   "cell_type": "code",
   "execution_count": null,
   "metadata": {},
   "outputs": [],
   "source": [
    "\n",
    "sum(possibly_true_equations) # correct!"
   ]
  },
  {
   "cell_type": "code",
   "execution_count": null,
   "metadata": {},
   "outputs": [],
   "source": [
    "# part 2: third operator, ||.\n",
    "\n",
    "# When || is present, join together the numbers adjascent. i.e. 12 || 345 = 12345. \n",
    "\n",
    "# should be a similar procedure, but now instead of the running sum tracking the prior step we do that addition after checking what the operation is. "
   ]
  },
  {
   "cell_type": "code",
   "execution_count": null,
   "metadata": {},
   "outputs": [],
   "source": [
    "import itertools\n",
    "\n",
    "def generate_combinations(n):\n",
    "    operators = ['+', '*','|'] # use | instead of || to make this checking process simpler :)\n",
    "    combinations = [''.join(p) for p in itertools.product(operators, repeat=n)]\n",
    "    return combinations\n",
    "\n",
    "\n",
    "generate_combinations(3)"
   ]
  },
  {
   "cell_type": "code",
   "execution_count": null,
   "metadata": {},
   "outputs": [],
   "source": [
    "# The engineers just need the total calibration result, which is the sum of the test values from just the equations that could possibly be true. \n",
    "\n",
    "possibly_true_equations = []\n",
    "for input, output in zip(inputs,outputs):\n",
    "    n = len(input) - 1\n",
    "    combinations = generate_combinations(n)\n",
    "\n",
    "\n",
    "    for comb in combinations:\n",
    "        test_output = input[0]\n",
    "        for i in range(1,len(input)):\n",
    "            operator = comb[i-1]\n",
    "            value = input[i]\n",
    "            if operator == '+':\n",
    "                test_output += value\n",
    "            elif operator == '*': \n",
    "                test_output *= value\n",
    "            elif operator == '|':\n",
    "                new_number = int(f\"{test_output}{value}\")\n",
    "                test_output = new_number \n",
    "        if test_output == output:\n",
    "            possibly_true_equations.append(output)\n",
    "            break\n",
    "\n"
   ]
  },
  {
   "cell_type": "code",
   "execution_count": null,
   "metadata": {},
   "outputs": [],
   "source": [
    "11 | 6 "
   ]
  },
  {
   "cell_type": "code",
   "execution_count": null,
   "metadata": {},
   "outputs": [],
   "source": [
    "possibly_true_equations"
   ]
  },
  {
   "cell_type": "code",
   "execution_count": null,
   "metadata": {},
   "outputs": [],
   "source": [
    "sum(possibly_true_equations) # correct!"
   ]
  },
  {
   "cell_type": "code",
   "execution_count": null,
   "metadata": {},
   "outputs": [],
   "source": []
  }
 ],
 "metadata": {
  "kernelspec": {
   "display_name": "action-annotator",
   "language": "python",
   "name": "python3"
  },
  "language_info": {
   "codemirror_mode": {
    "name": "ipython",
    "version": 3
   },
   "file_extension": ".py",
   "mimetype": "text/x-python",
   "name": "python",
   "nbconvert_exporter": "python",
   "pygments_lexer": "ipython3",
   "version": "3.10.13"
  }
 },
 "nbformat": 4,
 "nbformat_minor": 2
}
