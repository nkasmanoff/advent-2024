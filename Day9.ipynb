{
 "cells": [
  {
   "cell_type": "code",
   "execution_count": 12,
   "metadata": {},
   "outputs": [
    {
     "data": {
      "text/plain": [
       "'2333133121414131402'"
      ]
     },
     "execution_count": 12,
     "metadata": {},
     "output_type": "execute_result"
    }
   ],
   "source": [
    "f = open(\"9.txt\", \"r\")\n",
    "data = f.read()\n",
    "data"
   ]
  },
  {
   "cell_type": "code",
   "execution_count": 2,
   "metadata": {},
   "outputs": [
    {
     "name": "stdout",
     "output_type": "stream",
     "text": [
      "[0, 0, '.', '.', '.', 1, 1, 1, '.', '.', '.', 2, '.', '.', '.', 3, 3, 3, '.', 4, 4, '.', 5, 5, 5, 5, '.', 6, 6, 6, 6, '.', 7, 7, 7, '.', 8, 8, 8, 8, 9, 9]\n"
     ]
    }
   ],
   "source": [
    "def convert_to_file_format(data):\n",
    "    converted_output = []\n",
    "    file_val = 0\n",
    "    for i, quantity in enumerate(data):\n",
    "        if i % 2 != 0:\n",
    "            for j in range(int(quantity)):   \n",
    "                converted_output.append('.')\n",
    "\n",
    "        elif i > 0:\n",
    "            file_val +=1\n",
    "            for j in range(int(quantity)):   \n",
    "                converted_output.append(file_val)\n",
    "        else:\n",
    "            for j in range(int(quantity)):   \n",
    "                converted_output.append(file_val)\n",
    "\n",
    "\n",
    "    return converted_output\n",
    "file_format =convert_to_file_format(data)\n",
    "print(file_format)"
   ]
  },
  {
   "cell_type": "code",
   "execution_count": 3,
   "metadata": {},
   "outputs": [],
   "source": [
    "# convert works! \n",
    "# now to move the file blocks one at a time: \n",
    "\n",
    "# use pointers, starting on both sides. \n",
    "\n",
    "# if left pointer contains an empty spot and right pointer contains a value, swap points\n",
    "# if left pointer contains an empty spot and right pointer contains an empty spot, move right pointer left\n",
    "# if left pointer contains a value and right pointer contains an empty spot, move left pointer right \n",
    "\n",
    "# keep doing until pointers are next to eachother.. "
   ]
  },
  {
   "cell_type": "code",
   "execution_count": null,
   "metadata": {},
   "outputs": [],
   "source": []
  },
  {
   "cell_type": "code",
   "execution_count": 4,
   "metadata": {},
   "outputs": [
    {
     "data": {
      "text/plain": [
       "[0,\n",
       " 0,\n",
       " '.',\n",
       " '.',\n",
       " '.',\n",
       " 1,\n",
       " 1,\n",
       " 1,\n",
       " '.',\n",
       " '.',\n",
       " '.',\n",
       " 2,\n",
       " '.',\n",
       " '.',\n",
       " '.',\n",
       " 3,\n",
       " 3,\n",
       " 3,\n",
       " '.',\n",
       " 4,\n",
       " 4,\n",
       " '.',\n",
       " 5,\n",
       " 5,\n",
       " 5,\n",
       " 5,\n",
       " '.',\n",
       " 6,\n",
       " 6,\n",
       " 6,\n",
       " 6,\n",
       " '.',\n",
       " 7,\n",
       " 7,\n",
       " 7,\n",
       " '.',\n",
       " 8,\n",
       " 8,\n",
       " 8,\n",
       " 8,\n",
       " 9,\n",
       " 9]"
      ]
     },
     "execution_count": 4,
     "metadata": {},
     "output_type": "execute_result"
    }
   ],
   "source": [
    "file_format"
   ]
  },
  {
   "cell_type": "code",
   "execution_count": 5,
   "metadata": {},
   "outputs": [],
   "source": [
    "left = 0\n",
    "right = len(file_format) - 1\n",
    "while left <= right: \n",
    "    left_val, right_val= file_format[left], file_format[right]\n",
    "    if left_val == '.' and right_val != '.':\n",
    "        # swap, and iterate\n",
    "        file_format[left], file_format[right] = right_val, left_val\n",
    "        left += 1\n",
    "        right -= 1\n",
    "\n",
    "    if left_val != '.':\n",
    "        left += 1\n",
    "    if right_val == '.':\n",
    "        right -= 1\n",
    "\n",
    "    "
   ]
  },
  {
   "cell_type": "code",
   "execution_count": 6,
   "metadata": {},
   "outputs": [
    {
     "data": {
      "text/plain": [
       "[0,\n",
       " 0,\n",
       " 9,\n",
       " 9,\n",
       " 8,\n",
       " 1,\n",
       " 1,\n",
       " 1,\n",
       " 8,\n",
       " 8,\n",
       " 8,\n",
       " 2,\n",
       " 7,\n",
       " 7,\n",
       " 7,\n",
       " 3,\n",
       " 3,\n",
       " 3,\n",
       " 6,\n",
       " 4,\n",
       " 4,\n",
       " 6,\n",
       " 5,\n",
       " 5,\n",
       " 5,\n",
       " 5,\n",
       " 6,\n",
       " 6,\n",
       " '.',\n",
       " '.',\n",
       " '.',\n",
       " '.',\n",
       " '.',\n",
       " '.',\n",
       " '.',\n",
       " '.',\n",
       " '.',\n",
       " '.',\n",
       " '.',\n",
       " '.',\n",
       " '.',\n",
       " '.']"
      ]
     },
     "execution_count": 6,
     "metadata": {},
     "output_type": "execute_result"
    }
   ],
   "source": [
    "file_format"
   ]
  },
  {
   "cell_type": "code",
   "execution_count": 9,
   "metadata": {},
   "outputs": [],
   "source": [
    "file_checksum = 0\n",
    "for idx, char in enumerate(file_format):\n",
    "    if char == '.':\n",
    "        break\n",
    "    file_checksum += int(char) * idx"
   ]
  },
  {
   "cell_type": "code",
   "execution_count": 10,
   "metadata": {},
   "outputs": [
    {
     "data": {
      "text/plain": [
       "1928"
      ]
     },
     "execution_count": 10,
     "metadata": {},
     "output_type": "execute_result"
    }
   ],
   "source": [
    "file_checksum"
   ]
  },
  {
   "cell_type": "code",
   "execution_count": 14,
   "metadata": {},
   "outputs": [
    {
     "data": {
      "text/plain": [
       "[0,\n",
       " 0,\n",
       " '.',\n",
       " '.',\n",
       " '.',\n",
       " 1,\n",
       " 1,\n",
       " 1,\n",
       " '.',\n",
       " '.',\n",
       " '.',\n",
       " 2,\n",
       " '.',\n",
       " '.',\n",
       " '.',\n",
       " 3,\n",
       " 3,\n",
       " 3,\n",
       " '.',\n",
       " 4,\n",
       " 4,\n",
       " '.',\n",
       " 5,\n",
       " 5,\n",
       " 5,\n",
       " 5,\n",
       " '.',\n",
       " 6,\n",
       " 6,\n",
       " 6,\n",
       " 6,\n",
       " '.',\n",
       " 7,\n",
       " 7,\n",
       " 7,\n",
       " '.',\n",
       " 8,\n",
       " 8,\n",
       " 8,\n",
       " 8,\n",
       " 9,\n",
       " 9]"
      ]
     },
     "execution_count": 14,
     "metadata": {},
     "output_type": "execute_result"
    }
   ],
   "source": [
    "# part 2\n",
    "file_format =convert_to_file_format(data)\n",
    "\n",
    "file_format\n"
   ]
  }
 ],
 "metadata": {
  "kernelspec": {
   "display_name": "action-annotator",
   "language": "python",
   "name": "python3"
  },
  "language_info": {
   "codemirror_mode": {
    "name": "ipython",
    "version": 3
   },
   "file_extension": ".py",
   "mimetype": "text/x-python",
   "name": "python",
   "nbconvert_exporter": "python",
   "pygments_lexer": "ipython3",
   "version": "3.10.13"
  }
 },
 "nbformat": 4,
 "nbformat_minor": 2
}
